{
 "cells": [
  {
   "cell_type": "code",
   "execution_count": 65,
   "metadata": {},
   "outputs": [
    {
     "data": {
      "text/html": [
       "<div>\n",
       "<style scoped>\n",
       "    .dataframe tbody tr th:only-of-type {\n",
       "        vertical-align: middle;\n",
       "    }\n",
       "\n",
       "    .dataframe tbody tr th {\n",
       "        vertical-align: top;\n",
       "    }\n",
       "\n",
       "    .dataframe thead th {\n",
       "        text-align: right;\n",
       "    }\n",
       "</style>\n",
       "<table border=\"1\" class=\"dataframe\">\n",
       "  <thead>\n",
       "    <tr style=\"text-align: right;\">\n",
       "      <th></th>\n",
       "      <th>Locus</th>\n",
       "      <th>Pattern</th>\n",
       "      <th>Repeat</th>\n",
       "    </tr>\n",
       "  </thead>\n",
       "  <tbody>\n",
       "    <tr>\n",
       "      <td>0</td>\n",
       "      <td>1</td>\n",
       "      <td>11113</td>\n",
       "      <td>9</td>\n",
       "    </tr>\n",
       "    <tr>\n",
       "      <td>1</td>\n",
       "      <td>1</td>\n",
       "      <td>44442</td>\n",
       "      <td>9</td>\n",
       "    </tr>\n",
       "    <tr>\n",
       "      <td>2</td>\n",
       "      <td>2</td>\n",
       "      <td>1314</td>\n",
       "      <td>12</td>\n",
       "    </tr>\n",
       "    <tr>\n",
       "      <td>3</td>\n",
       "      <td>3</td>\n",
       "      <td>1113</td>\n",
       "      <td>7</td>\n",
       "    </tr>\n",
       "    <tr>\n",
       "      <td>4</td>\n",
       "      <td>4</td>\n",
       "      <td>1114</td>\n",
       "      <td>10</td>\n",
       "    </tr>\n",
       "    <tr>\n",
       "      <td>...</td>\n",
       "      <td>...</td>\n",
       "      <td>...</td>\n",
       "      <td>...</td>\n",
       "    </tr>\n",
       "    <tr>\n",
       "      <td>64</td>\n",
       "      <td>49</td>\n",
       "      <td>4341</td>\n",
       "      <td>18</td>\n",
       "    </tr>\n",
       "    <tr>\n",
       "      <td>65</td>\n",
       "      <td>51</td>\n",
       "      <td>1413</td>\n",
       "      <td>11</td>\n",
       "    </tr>\n",
       "    <tr>\n",
       "      <td>66</td>\n",
       "      <td>52</td>\n",
       "      <td>4131</td>\n",
       "      <td>11</td>\n",
       "    </tr>\n",
       "    <tr>\n",
       "      <td>67</td>\n",
       "      <td>53</td>\n",
       "      <td>4131</td>\n",
       "      <td>13</td>\n",
       "    </tr>\n",
       "    <tr>\n",
       "      <td>68</td>\n",
       "      <td>54</td>\n",
       "      <td>4131</td>\n",
       "      <td>12</td>\n",
       "    </tr>\n",
       "  </tbody>\n",
       "</table>\n",
       "<p>69 rows × 3 columns</p>\n",
       "</div>"
      ],
      "text/plain": [
       "    Locus  Pattern  Repeat\n",
       "0       1    11113       9\n",
       "1       1    44442       9\n",
       "2       2     1314      12\n",
       "3       3     1113       7\n",
       "4       4     1114      10\n",
       "..    ...      ...     ...\n",
       "64     49     4341      18\n",
       "65     51     1413      11\n",
       "66     52     4131      11\n",
       "67     53     4131      13\n",
       "68     54     4131      12\n",
       "\n",
       "[69 rows x 3 columns]"
      ]
     },
     "execution_count": 65,
     "metadata": {},
     "output_type": "execute_result"
    }
   ],
   "source": [
    "from sklearn.tree import DecisionTreeClassifier\n",
    "from sklearn.ensemble import RandomForestClassifier\n",
    "from sklearn.ensemble import GradientBoostingClassifier\n",
    "import pandas as pd  \n",
    "import numpy as np  \n",
    "import matplotlib.pyplot as plt  \n",
    "import seaborn as seabornInstance \n",
    "from sklearn.model_selection import train_test_split \n",
    "from sklearn.linear_model import LinearRegression\n",
    "from sklearn import metrics\n",
    "from sklearn.metrics import mean_squared_error\n",
    "from sklearn.metrics import mean_absolute_error\n",
    "from matplotlib.colors import ListedColormap\n",
    "from sklearn.linear_model import LinearRegression\n",
    "from sklearn.linear_model import LogisticRegression\n",
    "from sklearn.linear_model import Ridge\n",
    "from sklearn.linear_model import Lasso\n",
    "import csv\n",
    "from sklearn.neighbors import KNeighborsClassifier\n",
    "#col_names = ['year', 'aboveground_biomass_loss__Mg', 'treecover_loss__ha', 'aboveground_co2_emissions__Mg', 'Total Species', 'Species with <1000 individuals', 'Threatened Species', 'Threatened Percentile']\n",
    "# load dataset\n",
    "pima = pd.read_csv(\"str.csv\")\n",
    "pima"
   ]
  },
  {
   "cell_type": "code",
   "execution_count": 66,
   "metadata": {},
   "outputs": [],
   "source": [
    "feature_cols = ['Locus', 'Pattern','Repeat']\n",
    "X = pima[feature_cols] # Features\n",
    "y = pima.Locus # Target variable"
   ]
  },
  {
   "cell_type": "code",
   "execution_count": 136,
   "metadata": {},
   "outputs": [
    {
     "data": {
      "text/html": [
       "<div>\n",
       "<style scoped>\n",
       "    .dataframe tbody tr th:only-of-type {\n",
       "        vertical-align: middle;\n",
       "    }\n",
       "\n",
       "    .dataframe tbody tr th {\n",
       "        vertical-align: top;\n",
       "    }\n",
       "\n",
       "    .dataframe thead th {\n",
       "        text-align: right;\n",
       "    }\n",
       "</style>\n",
       "<table border=\"1\" class=\"dataframe\">\n",
       "  <thead>\n",
       "    <tr style=\"text-align: right;\">\n",
       "      <th></th>\n",
       "      <th>Locus</th>\n",
       "      <th>Pattern</th>\n",
       "      <th>Repeat</th>\n",
       "    </tr>\n",
       "  </thead>\n",
       "  <tbody>\n",
       "    <tr>\n",
       "      <td>0</td>\n",
       "      <td>12</td>\n",
       "      <td>4311</td>\n",
       "      <td>9</td>\n",
       "    </tr>\n",
       "    <tr>\n",
       "      <td>1</td>\n",
       "      <td>39</td>\n",
       "      <td>1314</td>\n",
       "      <td>13</td>\n",
       "    </tr>\n",
       "    <tr>\n",
       "      <td>2</td>\n",
       "      <td>2</td>\n",
       "      <td>3141</td>\n",
       "      <td>9</td>\n",
       "    </tr>\n",
       "  </tbody>\n",
       "</table>\n",
       "</div>"
      ],
      "text/plain": [
       "   Locus  Pattern  Repeat\n",
       "0     12     4311       9\n",
       "1     39     1314      13\n",
       "2      2     3141       9"
      ]
     },
     "execution_count": 136,
     "metadata": {},
     "output_type": "execute_result"
    }
   ],
   "source": [
    "pima_t = pd.read_csv(\"str_test.csv\")\n",
    "pima_t"
   ]
  },
  {
   "cell_type": "code",
   "execution_count": 145,
   "metadata": {},
   "outputs": [
    {
     "name": "stdout",
     "output_type": "stream",
     "text": [
      "[[  12 4311    9]\n",
      " [  39 1314   13]\n",
      " [   2 3141    9]]\n",
      "0.0\n",
      "0.3333333333333333\n",
      "0.6666666666666666\n",
      "0.3333333333333333\n",
      "0.6666666666666666\n",
      "0.6666666666666666\n",
      "0.3333333333333333\n",
      "0.6666666666666666\n",
      "0.6666666666666666\n",
      "0.6666666666666666\n",
      "0.3333333333333333\n",
      "0.6666666666666666\n",
      "0.6666666666666666\n",
      "0.3333333333333333\n",
      "1.0\n",
      "0.6666666666666666\n",
      "1.0\n",
      "0.6666666666666666\n",
      "1.0\n",
      "1.0\n",
      "1.0\n",
      "0.6666666666666666\n",
      "0.6666666666666666\n",
      "1.0\n",
      "1.0\n",
      "0.6666666666666666\n",
      "0.6666666666666666\n",
      "1.0\n",
      "0.6666666666666666\n",
      "0.6666666666666666\n",
      "1.0\n"
     ]
    },
    {
     "data": {
      "text/plain": [
       "array([12, 39,  2], dtype=int64)"
      ]
     },
     "execution_count": 145,
     "metadata": {},
     "output_type": "execute_result"
    }
   ],
   "source": [
    "feature_cols = ['Locus', 'Pattern','Repeat']\n",
    "#X_train, X_test, y_train, y_test = train_test_split(X, y, test_size=0.3, random_state=1) # 70% training and 30% test\n",
    "Xtrain=np.array(pima[feature_cols])\n",
    "ytrain=np.array(pima.Locus)\n",
    "\n",
    "feature_cols = ['Locus', 'Pattern','Repeat']\n",
    "X = pima_t[feature_cols] # Features\n",
    "X_test=np.array(X)\n",
    "acc=[]\n",
    "print(X_test)\n",
    "Y_test=np.array(pima_t.Locus)\n",
    "for i in range(31):\n",
    "    #clf =KNeighborsClassifier(n_neighbors=1, weights='uniform',algorithm='auto')\n",
    "    clf=DecisionTreeClassifier(criterion='gini',splitter='best',max_depth=i+1)\n",
    "    #clf=RandomForestClassifier(bootstrap=True,n_estimators=30,max_features=None,criterion='gini',max_depth=i+1)\n",
    "    #clf =GradientBoostingClassifier(learning_rate=0.1,n_estimators=40,max_depth=i+1)\n",
    "    #clf =RandomForestClassifier(bootstrap=True,n_estimators=30,max_features='sqrt',criterion='gini',max_depth=18)\n",
    "    #clf =LogisticRegression(penalty='none',fit_intercept=True,solver='lbfgs')\n",
    "    # Train Decision Tree Classifer\n",
    "    clf = clf.fit(Xtrain,ytrain)\n",
    "\n",
    "    #Predict the response for test dataset\n",
    "    y_pred = clf.predict(X_test)\n",
    "    acc.append(clf.score(X_test,Y_test))\n",
    "    print(clf.score(X_test,Y_test))\n",
    "y_pred"
   ]
  },
  {
   "cell_type": "code",
   "execution_count": 93,
   "metadata": {},
   "outputs": [
    {
     "data": {
      "text/plain": [
       "(2, 6, 12, 13, 14, 18, 19, 21, 22, 25, 27, 28, 30, 9, 10, 17, 29)"
      ]
     },
     "execution_count": 93,
     "metadata": {},
     "output_type": "execute_result"
    }
   ],
   "source": [
    "2,6,12,13,14,18,19,21,22,25,27,28,30,9,10,17,29"
   ]
  },
  {
   "cell_type": "code",
   "execution_count": 146,
   "metadata": {
    "scrolled": true
   },
   "outputs": [
    {
     "data": {
      "text/plain": [
       "Text(0, 0.5, 'accuracy')"
      ]
     },
     "execution_count": 146,
     "metadata": {},
     "output_type": "execute_result"
    },
    {
     "data": {
      "image/png": "[encoded data removed]",
      "text/plain": [
       "<Figure size 583.92x377.28 with 1 Axes>"
      ]
     },
     "metadata": {
      "needs_background": "light"
     },
     "output_type": "display_data"
    }
   ],
   "source": [
    "fig = plt.gcf()\n",
    "fig.set_size_inches(8.11, 5.24)\n",
    " \n",
    "\n",
    "plt.plot(np.arange(1,32), np.array(acc),color='b')\n",
    "\n",
    "plt.title(\"Testing accuracy as a function of depth\")\n",
    "plt.xlabel('depth')\n",
    "plt.ylabel('accuracy')\n"
   ]
  },
  {
   "cell_type": "code",
   "execution_count": 119,
   "metadata": {},
   "outputs": [
    {
     "data": {
      "text/plain": [
       "Text(0, 0.5, 'accuracy')"
      ]
     },
     "execution_count": 119,
     "metadata": {},
     "output_type": "execute_result"
    },
    {
     "data": {
      "image/png": "[encoded data removed]",
      "text/plain": [
       "<Figure size 583.92x377.28 with 1 Axes>"
      ]
     },
     "metadata": {
      "needs_background": "light"
     },
     "output_type": "display_data"
    }
   ],
   "source": [
    "fig = plt.gcf()\n",
    "fig.set_size_inches(8.11, 5.24)\n",
    " \n",
    "\n",
    "plt.plot(np.arange(1,32), np.array(acc),color='b')\n",
    "\n",
    "plt.title(\"Testing accuracy as a function of depth\")\n",
    "plt.xlabel('depth')\n",
    "plt.ylabel('accuracy')"
   ]
  },
  {
   "cell_type": "code",
   "execution_count": null,
   "metadata": {},
   "outputs": [],
   "source": []
  }
 ],
 "metadata": {
  "kernelspec": {
   "display_name": "Python 3",
   "language": "python",
   "name": "python3"
  },
  "language_info": {
   "codemirror_mode": {
    "name": "ipython",
    "version": 3
   },
   "file_extension": ".py",
   "mimetype": "text/x-python",
   "name": "python",
   "nbconvert_exporter": "python",
   "pygments_lexer": "ipython3",
   "version": "3.7.4"
  }
 },
 "nbformat": 4,
 "nbformat_minor": 2
}
