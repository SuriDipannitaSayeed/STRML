{
 "cells": [
  {
   "cell_type": "code",
   "execution_count": 29,
   "metadata": {},
   "outputs": [
    {
     "name": "stdout",
     "output_type": "stream",
     "text": [
      "3\n"
     ]
    }
   ],
   "source": [
    "import csv  \n",
    "from openpyxl import load_workbook\n",
    "from xlwt import Workbook \n",
    "import pandas as pd \n",
    "file1 = open(\"str_cluster.txt\",\"r+\")\n",
    "strtr=file1.readlines()\n",
    " \n",
    "strtr2=[]\n",
    "for j in range(len(strtr)):\n",
    "    if((j%2)!=0):\n",
    "        strtr2.append(strtr[j])\n",
    "print(len(strtr2))\n",
    "y=[12,39,2]\n",
    "#y=[2,6,12,13,14,18,19,21,22,25,27,28,30,9,10,17,29]"
   ]
  },
  {
   "cell_type": "code",
   "execution_count": 30,
   "metadata": {},
   "outputs": [
    {
     "name": "stdout",
     "output_type": "stream",
     "text": [
      "atgcggtcctcacataatgaatgaatgaatgaatgaatgaatgaatgaatgaatggtacaaaaccttctggactaaaag\n",
      "\n",
      "tgaa\n",
      "9\n",
      "4311\n",
      "ttctgcacagatattcgtataagatagatagatagatagatagatagatagatagatagatagatagatagatatttggctatgcgggatgt\n",
      "\n",
      "agat\n",
      "13\n",
      "1314\n",
      "agtcagggcgttaaaagtatcacaaacgaattcgactcttagatagatagatagatagatagatagatagatagatagatcccatgtcaaagatagatagatgcccctacattcacaatgaaatgctaacgtgtaagagatctcattaacca\n",
      "\n",
      "gata\n",
      "9\n",
      "3141\n"
     ]
    }
   ],
   "source": [
    "j=0\n",
    "while (j in range(len(strtr2))):\n",
    "    str=strtr2[j]\n",
    "    print(str)\n",
    "    str=str[1:len(str)-1]\n",
    "    l=[]\n",
    "    d={}\n",
    "    i=0\n",
    "    while(i<len(str)):\n",
    "        if(len(str[i:i+4])==4):\n",
    "            l.append(str[i:i+4])\n",
    "        i=i+4\n",
    "    l.sort()\n",
    "    #print(l)\n",
    "    count=1\n",
    "    top=0\n",
    "    t_s=\"\"\n",
    "    for i in range(len(l)-1):\n",
    "        if(l[i]==l[i+1]):\n",
    "            count=count+1\n",
    "        else:\n",
    "            if(count>top):\n",
    "                top=count;\n",
    "                t_s=l[i]\n",
    "            #d.update({l[i]:count})\n",
    "            count=1\n",
    "    print(t_s)\n",
    "    print(top)\n",
    "    d_s=\"\"\n",
    "    for i in   range(len(t_s)):\n",
    "        if(t_s[i]=='t'):\n",
    "            d_s=d_s+'4'\n",
    "        if(t_s[i]=='c'):\n",
    "            d_s=d_s+'2'\n",
    "        if(t_s[i]=='g'):\n",
    "            d_s=d_s+'3'\n",
    "        if(t_s[i]=='a'):\n",
    "            d_s=d_s+'1'\n",
    "    print(d_s)\n",
    "    #sorted_d = list(reversed(sorted((value, key) for (key,value) in d.items())))\n",
    "    #print(sorted_d[0][1]) \n",
    "    #wb = Workbook() \n",
    "    #wb = load_workbook('str_test.csv')\n",
    "    #pima = pd.read_csv('str_test.csv')\n",
    "    #active = wb['str_test.csv']\n",
    "    with open(r'str_test.csv', 'a', newline='') as csvfile:\n",
    "        fieldnames = ['Locus','Pattern','Repeat']\n",
    "        writer = csv.DictWriter(csvfile, fieldnames=fieldnames)\n",
    "\n",
    "        writer.writerow({'Locus':y[j], 'Pattern':d_s,'Repeat':top})\n",
    "    j=j+1"
   ]
  },
  {
   "cell_type": "code",
   "execution_count": null,
   "metadata": {},
   "outputs": [],
   "source": []
  },
  {
   "cell_type": "code",
   "execution_count": null,
   "metadata": {},
   "outputs": [],
   "source": []
  }
 ],
 "metadata": {
  "kernelspec": {
   "display_name": "Python 3",
   "language": "python",
   "name": "python3"
  },
  "language_info": {
   "codemirror_mode": {
    "name": "ipython",
    "version": 3
   },
   "file_extension": ".py",
   "mimetype": "text/x-python",
   "name": "python",
   "nbconvert_exporter": "python",
   "pygments_lexer": "ipython3",
   "version": "3.7.4"
  }
 },
 "nbformat": 4,
 "nbformat_minor": 2
}
